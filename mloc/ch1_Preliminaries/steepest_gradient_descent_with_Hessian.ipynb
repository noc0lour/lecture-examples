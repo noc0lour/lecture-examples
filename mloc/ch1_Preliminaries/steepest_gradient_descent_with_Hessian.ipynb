{
 "cells": [
  {
   "cell_type": "markdown",
   "metadata": {},
   "source": [
    "# Steepest Gradient Descent Visualization with Hessian-Based Stepsize\n",
    "\n",
    "This code is provided as supplementary material of the lecture Machine Learning and Optimization in Communications (MLOC).<br>\n",
    "\n",
    "This code illustrates:\n",
    "* Steepest gradient descent in two dimensions\n",
    "* Interactive demonstration of step size influence\n",
    "* Selection of stepsize $\\epsilon$ such that second order expression decreases fastest"
   ]
  },
  {
   "cell_type": "code",
   "execution_count": 1,
   "metadata": {},
   "outputs": [
    {
     "name": "stdout",
     "output_type": "stream",
     "text": [
      "Using autograd to compute gradients\n"
     ]
    },
    {
     "name": "stderr",
     "output_type": "stream",
     "text": [
      "<ipython-input-1-235aa7b32076>:25: MatplotlibDeprecationWarning: Support for setting the 'text.latex.preamble' or 'pgf.preamble' rcParam to a list of strings is deprecated since 3.3 and will be removed two minor releases later; set it to a single string instead.\n",
      "  matplotlib.rcParams['text.latex.preamble']=[r\"\\usepackage{amsmath}\"]\n"
     ]
    }
   ],
   "source": [
    "import importlib\n",
    "jax_available = True\n",
    "# if automatic differentiation is available, use it\n",
    "try:\n",
    "    import jax\n",
    "except ImportError:\n",
    "    jax_available = False\n",
    "    pass\n",
    "\n",
    "if jax_available:\n",
    "    import jax.numpy as np    \n",
    "    from jax import grad, hessian\n",
    "else:\n",
    "    import numpy as np\n",
    "\n",
    "import matplotlib.pyplot as plt\n",
    "import matplotlib\n",
    "from ipywidgets import interactive\n",
    "import ipywidgets as widgets\n",
    "%matplotlib inline \n",
    "\n",
    "font = {'size'   : 20}\n",
    "plt.rc('font', **font)\n",
    "plt.rc('text', usetex=matplotlib.checkdep_usetex(True))\n",
    "matplotlib.rcParams['text.latex.preamble']=[r\"\\usepackage{amsmath}\"]\n",
    "\n",
    "if jax_available:\n",
    "    print('Using autograd to compute gradients')\n",
    "else:\n",
    "    print('Using hand-calculated gradient')"
   ]
  },
  {
   "cell_type": "markdown",
   "metadata": {},
   "source": [
    "Specify the function to minimize as a simple python function.<br>\n",
    "We start with a very simple function that is given by\n",
    "\\begin{equation*}\n",
    "f(\\boldsymbol{x}) = \\frac{1}{16}x_1^2 + 9x_2^2\n",
    "\\end{equation*}\n",
    "The derivative is automatically computed using the autograd library, which returns a function that evaluates the gradient of myfun. The gradient can also be easily computed by hand and is given as\n",
    "\\begin{equation*}\n",
    "\\nabla f(\\boldsymbol{x}) = \\begin{pmatrix} \\frac{1}{8}x_1 \\\\ 18x_2 \\end{pmatrix}\n",
    "\\end{equation*}\n",
    "The Hessian is easily computed by hand is given as\n",
    "\\begin{equation*}\n",
    "\\boldsymbol{H}(f(\\boldsymbol{x})) = \\begin{pmatrix} \\frac{1}{8} & 0 \\\\ 0 & 18 \\end{pmatrix}\n",
    "\\end{equation*}"
   ]
  },
  {
   "cell_type": "code",
   "execution_count": 3,
   "metadata": {},
   "outputs": [],
   "source": [
    "# Valley\n",
    "def myfun(x):\n",
    "    return (x[0]**2)/16 + 9*(x[1]**2)\n",
    "\n",
    "if jax_available:\n",
    "    gradient = grad(myfun)\n",
    "    Hessian = hessian(myfun)\n",
    "else:\n",
    "    def gradient(x):\n",
    "        grad = [x[0]/8, 18*x[1]]\n",
    "        return grad;\n",
    "    def Hessian(x):\n",
    "        H = [[1/8, 0.0], [0.0, 18.0]]\n",
    "        return np.array(H)"
   ]
  },
  {
   "cell_type": "markdown",
   "metadata": {},
   "source": [
    "Plot the function as a 2d surface plot. Different colors indicate different values of the function."
   ]
  },
  {
   "cell_type": "code",
   "execution_count": 4,
   "metadata": {},
   "outputs": [
    {
     "name": "stderr",
     "output_type": "stream",
     "text": [
      "WARNING:absl:No GPU/TPU found, falling back to CPU. (Set TF_CPP_MIN_LOG_LEVEL=0 and rerun for more info.)\n"
     ]
    },
    {
     "data": {
      "image/png": "[encoded data removed]",
      "text/plain": [
       "<Figure size 720x432 with 2 Axes>"
      ]
     },
     "metadata": {
      "needs_background": "light"
     },
     "output_type": "display_data"
    }
   ],
   "source": [
    "x = np.arange(-5.0, 5.0, 0.02)\n",
    "y = np.arange(-2.0, 2.0, 0.02)\n",
    "X, Y = np.meshgrid(x, y)\n",
    "\n",
    "fZ = myfun([X,Y])\n",
    "\n",
    "plt.figure(1,figsize=(10,6))\n",
    "plt.rcParams.update({'font.size': 14})\n",
    "plt.contourf(X,Y,fZ,levels=20)\n",
    "plt.colorbar()\n",
    "plt.xlabel(\"x\")\n",
    "plt.ylabel(\"y\")\n",
    "plt.show()"
   ]
  },
  {
   "cell_type": "markdown",
   "metadata": {},
   "source": [
    "Carry out the simple gradient descent strategy by using only the sign of the gradient. Carry out 200 iterations (without using a stopping criterion). The values of epsilon and the starting point are specified"
   ]
  },
  {
   "cell_type": "code",
   "execution_count": 5,
   "metadata": {},
   "outputs": [],
   "source": [
    "start = np.array([-4.0,-1.0])\n",
    "\n",
    "points = []\n",
    "while len(points) < 200:\n",
    "    points.append( (start,myfun(start)) )\n",
    "    \n",
    "    g = gradient(start)\n",
    "    H = Hessian(start)\n",
    "    epsilon = (g @ g) / (g @ H @ g)\n",
    "    start = start - np.array([epsilon*gradient(start)[0], epsilon*gradient(start)[1]])"
   ]
  },
  {
   "cell_type": "markdown",
   "metadata": {},
   "source": [
    "Plot the trajectory and the value of the function (right subplot). Note that the minimum of this function is achieved for (0,0) and is 0"
   ]
  },
  {
   "cell_type": "code",
   "execution_count": 6,
   "metadata": {
    "scrolled": false
   },
   "outputs": [
    {
     "data": {
      "image/png": "[encoded data removed]",
      "text/plain": [
       "<Figure size 1152x432 with 2 Axes>"
      ]
     },
     "metadata": {
      "needs_background": "light"
     },
     "output_type": "display_data"
    }
   ],
   "source": [
    "trajectory_x = [points[i][0][0] for i in range(len(points))]\n",
    "trajectory_y = [points[i][0][1] for i in range(len(points))]\n",
    "\n",
    "plt.figure(1,figsize=(16,6))\n",
    "plt.subplot(121)\n",
    "plt.rcParams.update({'font.size': 14})\n",
    "plt.contourf(X,Y,fZ,levels=20)\n",
    "plt.xlim(-5,0)\n",
    "plt.ylim(-2,2)\n",
    "plt.xlabel(\"$x$\")\n",
    "plt.ylabel(\"$y$\")\n",
    "plt.plot(trajectory_x, trajectory_y,marker='.',color='w',linewidth=2)\n",
    "\n",
    "plt.subplot(122)\n",
    "plt.plot(range(0,len(points)),list(zip(*points))[1])\n",
    "plt.grid(True)\n",
    "plt.xlabel(\"Step $i$\")\n",
    "plt.ylabel(r\"$f(\\boldsymbol{x}^{(i)})$\")\n",
    "plt.show()"
   ]
  },
  {
   "cell_type": "markdown",
   "metadata": {},
   "source": [
    "This is an interactive demonstration of gradient descent, where you can specify yourself the starting point as well as the step value. You can see that depending on the step size, the minimization can get unstable"
   ]
  },
  {
   "cell_type": "code",
   "execution_count": 7,
   "metadata": {},
   "outputs": [],
   "source": [
    "def plot_function(start_x, start_y):\n",
    "    start = np.array([start_x,start_y])\n",
    "    points = []\n",
    "    while len(points) < 200:\n",
    "        points.append( (start,myfun(start)) )\n",
    "        g = gradient(start)\n",
    "        H = Hessian(start)\n",
    "        epsilon = (g @ g) / (g @ H @ g)\n",
    "        \n",
    "        start = start - np.array([epsilon*gradient(start)[0], epsilon*gradient(start)[1]])\n",
    "    \n",
    "    \n",
    "    trajectory_x = [points[i][0][0] for i in range(len(points))]\n",
    "    trajectory_y = [points[i][0][1] for i in range(len(points))]\n",
    "\n",
    "    plt.figure(3,figsize=(15,5))\n",
    "    plt.subplot(121)\n",
    "    plt.rcParams.update({'font.size': 14})\n",
    "    plt.contourf(X,Y,fZ,levels=20)\n",
    "    plt.xlim(-5,0)\n",
    "    plt.ylim(-2,2)\n",
    "    plt.xlabel(\"$x$\")\n",
    "    plt.ylabel(\"$y$\")\n",
    "    plt.plot(trajectory_x, trajectory_y,marker='.',color='w',linewidth=2)\n",
    "\n",
    "    plt.subplot(122)\n",
    "    plt.plot(range(0,len(points)),list(zip(*points))[1])\n",
    "    plt.grid(True)\n",
    "    plt.xlabel(\"Step $i$\")\n",
    "    plt.ylabel(r\"$f(\\boldsymbol{x}^{(i)})$\")\n",
    "    plt.show()"
   ]
  },
  {
   "cell_type": "code",
   "execution_count": 9,
   "metadata": {
    "scrolled": false
   },
   "outputs": [
    {
     "data": {
      "application/vnd.jupyter.widget-view+json": {
       "model_id": "29ceaa26eec04c6395e49bc7809f3d2e",
       "version_major": 2,
       "version_minor": 0
      },
      "text/plain": [
       "interactive(children=(FloatSlider(value=-4.0, continuous_update=False, description='x', max=0.0, min=-5.0, ste…"
      ]
     },
     "metadata": {},
     "output_type": "display_data"
    }
   ],
   "source": [
    "epsilon_values = np.arange(0.0,0.12,0.0002)\n",
    "interactive_update = interactive(plot_function, \\\n",
    "                               start_x = widgets.FloatSlider(min=-5.0,max=0.0,step=0.001,value=-4.0, continuous_update=False, description='x'), \\\n",
    "                               start_y = widgets.FloatSlider(min=-1.0, max=2.0, step=0.001, value=-2.0, continuous_update=False, description='y'))\n",
    "\n",
    "output = interactive_update.children[-1]\n",
    "output.layout.height = '370px'\n",
    "interactive_update"
   ]
  },
  {
   "cell_type": "markdown",
   "metadata": {},
   "source": [
    "Next, we consider the so-called Rosenbrock function, which is given by\n",
    "\\begin{equation*}\n",
    "f(\\boldsymbol{x}) = (1-x_1)^2 + 100(x_2-x_1^2)^2\n",
    "\\end{equation*}\n",
    "Its gradient is given by\n",
    "\\begin{equation*}\n",
    "\\nabla f(\\boldsymbol{x}) = \\begin{pmatrix} -2(1-x_1)-400(x_2-x_1^2)x_1 \\\\ 200(x_2-x_1^2)\\end{pmatrix}\n",
    "\\end{equation*}\n",
    "Its Hessian is given by\n",
    "\\begin{equation*}\n",
    "\\boldsymbol{H}(f(\\boldsymbol{x})) = \\begin{pmatrix}\n",
    "2 - 400(x_2 - 3x_1^2) & -400x_1 \\\\\n",
    "-400x_1 & 200\n",
    "\\end{pmatrix}\n",
    "\\end{equation*}\n",
    "The Rosenbrock function has a global minimum at (1,1) but is difficult to optimize due to its curved valley. For details, see <url>https://en.wikipedia.org/wiki/Rosenbrock_function</url>"
   ]
  },
  {
   "cell_type": "code",
   "execution_count": 11,
   "metadata": {},
   "outputs": [],
   "source": [
    "# Rosenbrock function\n",
    "def rosenbrock_fun(x):\n",
    "    return (1-x[0])**2+100*((x[1]-(x[0])**2)**2)\n",
    "\n",
    "if jax_available:\n",
    "    rosenbrock_gradient = grad(rosenbrock_fun)\n",
    "    rosenbrock_Hessian = hessian(rosenbrock_fun)\n",
    "else:\n",
    "    def rosenbrock_gradient(x):\n",
    "        grad = [-2*(1-x[0])-400*(x[1]-x[0]**2)*x[0], 200*(x[1]-x[0]**2)]\n",
    "        return grad\n",
    "    def rosenbrock_Hessian(x):\n",
    "        H = np.array([[2 - 400*(x[1] - 3*x[0]**2), -400*x[0]], [-400*x[0], 200]])\n",
    "        return H\n",
    "\n",
    "def temp_rosenbrock_Hessian(x):\n",
    "    H = np.array([[2 - 400*(x[1] - 3*x[0]**2), -400*x[0]], [-400*x[0], 200]])\n",
    "    return H\n",
    "        \n",
    "xr = np.arange(-1.6, 1.6, 0.01)\n",
    "yr = np.arange(-1.0, 3.0, 0.01)\n",
    "Xr, Yr = np.meshgrid(xr, yr)\n",
    "fZr = rosenbrock_fun([Xr,Yr])\n",
    "\n",
    "def plot_function_rosenbrock(start_x, start_y):\n",
    "    start = np.array([start_x,start_y])\n",
    "    points = []\n",
    "    while len(points) < 1000:\n",
    "        points.append( (start,rosenbrock_fun(start)) )\n",
    "        g = rosenbrock_gradient(start)\n",
    "        H = rosenbrock_Hessian(start)\n",
    "        epsilon = (g @ g) / (g @ H @ g)\n",
    "                \n",
    "        start = start - np.array([epsilon*g[0], epsilon*g[1]])\n",
    "    \n",
    "    \n",
    "    trajectory_x = [points[i][0][0] for i in range(len(points))]\n",
    "    trajectory_y = [points[i][0][1] for i in range(len(points))]\n",
    "\n",
    "    plt.figure(4,figsize=(15,5))\n",
    "    plt.subplot(121)\n",
    "    plt.rcParams.update({'font.size': 14})\n",
    "    plt.contourf(Xr,Yr,fZr,levels=20)\n",
    "    plt.xlabel(\"$x$\")\n",
    "    plt.ylabel(\"$y$\")\n",
    "    plt.plot(trajectory_x, trajectory_y,marker='.',color='w',linewidth=2)\n",
    "    plt.xlim((min(xr), max(xr)))\n",
    "    plt.ylim((min(yr), max(yr)))\n",
    "    \n",
    "    plt.subplot(122)\n",
    "    plt.plot(range(0,len(points)),list(zip(*points))[1])\n",
    "    plt.grid(True)\n",
    "    plt.xlabel(\"Step $i$\")\n",
    "    plt.ylabel(r'$f(\\boldsymbol{x}^{(i)})$')\n",
    "    plt.show()"
   ]
  },
  {
   "cell_type": "code",
   "execution_count": 12,
   "metadata": {},
   "outputs": [
    {
     "data": {
      "application/vnd.jupyter.widget-view+json": {
       "model_id": "9dae72cfe18f4eeb978ae631a202c9f1",
       "version_major": 2,
       "version_minor": 0
      },
      "text/plain": [
       "interactive(children=(FloatSlider(value=0.6, continuous_update=False, description='x', max=1.6, min=-1.6, step…"
      ]
     },
     "metadata": {},
     "output_type": "display_data"
    }
   ],
   "source": [
    "epsilon_values = np.arange(0.0,0.007,0.00002)\n",
    "interactive_update = interactive(plot_function_rosenbrock, \\\n",
    "                               start_x = widgets.FloatSlider(min=-1.6,max=1.6,step=0.0001,value=0.6, continuous_update=False, description='x'), \\\n",
    "                               start_y = widgets.FloatSlider(min=-1.0, max=3.0, step=0.0001, value=0.1, continuous_update=False, description='y'))\n",
    "\n",
    "output = interactive_update.children[-1]\n",
    "output.layout.height = '350px'\n",
    "interactive_update"
   ]
  },
  {
   "cell_type": "code",
   "execution_count": null,
   "metadata": {},
   "outputs": [],
   "source": []
  }
 ],
 "metadata": {
  "kernelspec": {
   "display_name": "Python 3",
   "language": "python",
   "name": "python3"
  },
  "language_info": {
   "codemirror_mode": {
    "name": "ipython",
    "version": 3
   },
   "file_extension": ".py",
   "mimetype": "text/x-python",
   "name": "python",
   "nbconvert_exporter": "python",
   "pygments_lexer": "ipython3",
   "version": "3.9.5"
  }
 },
 "nbformat": 4,
 "nbformat_minor": 2
}
